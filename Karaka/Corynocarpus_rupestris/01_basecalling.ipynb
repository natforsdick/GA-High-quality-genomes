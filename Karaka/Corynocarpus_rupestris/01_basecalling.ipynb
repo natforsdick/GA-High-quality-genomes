{
 "cells": [
  {
   "cell_type": "markdown",
   "metadata": {},
   "source": [
    "# Corynocarpus rupestris\n",
    "## ONT Basecalling\n",
    "\n",
    "### Run statistics (Before Basecalling):\n",
    "- LSK114 kit\n",
    "\n",
    "N50 = 15.3kb\n",
    "Reads = 1.47M\n",
    "Bases = 10.38 Gbases\n",
    "Data = 114 GB\n",
    "Coverage = ~15X"
   ]
  },
  {
   "cell_type": "code",
   "execution_count": 1,
   "metadata": {
    "vscode": {
     "languageId": "shellscript"
    }
   },
   "outputs": [],
   "source": [
    "WKDIR=/workspace/hraijc/Karaka/Crupestris/01_basecalling\n",
    "READDIR=/input/genomic/plant/Corynocarpus/rupestris/Crup_ONT1/Crup_ONT1/20240926_1423_MN19482_FAZ32631_9de6a161/pod5\n",
    "DORADO=/workspace/hraijc/git_clones/dorado-0.7.3-linux-x64/bin/dorado\n",
    "PREFIX=Crup_ONT1"
   ]
  },
  {
   "cell_type": "code",
   "execution_count": 2,
   "metadata": {
    "vscode": {
     "languageId": "shellscript"
    }
   },
   "outputs": [],
   "source": [
    "cd $WKDIR\n",
    "mkdir -p ${WKDIR}/log"
   ]
  },
  {
   "cell_type": "code",
   "execution_count": 3,
   "metadata": {
    "vscode": {
     "languageId": "shellscript"
    }
   },
   "outputs": [
    {
     "name": "stdout",
     "output_type": "stream",
     "text": [
      "[2024-09-29 12:07:19.288] [info] Running: \"-v\"\n",
      "0.7.3+6e6c45c\n"
     ]
    }
   ],
   "source": [
    "$DORADO -v"
   ]
  },
  {
   "cell_type": "code",
   "execution_count": 5,
   "metadata": {
    "vscode": {
     "languageId": "shellscript"
    }
   },
   "outputs": [
    {
     "name": "stdout",
     "output_type": "stream",
     "text": [
      "[2024-09-24 10:58:53.234] [info] Running: \"basecaller\" \"-h\"\n",
      "Usage: dorado [-h] [--device VAR] [--read-ids VAR] [--resume-from VAR] [--max-reads VAR] [--min-qscore VAR] [--batchsize VAR] [--chunksize VAR] [--overlap VAR] [--recursive] [--modified-bases VAR...] [--modified-bases-models VAR] [--modified-bases-threshold VAR] [--emit-fastq] [--emit-sam] [--emit-moves] [--reference VAR] [--kit-name VAR] [--barcode-both-ends] [--no-trim] [--trim VAR] [--sample-sheet VAR] [--barcode-arrangement VAR] [--barcode-sequences VAR] [--primer-sequences VAR] [--estimate-poly-a] [--poly-a-config VAR] [-k VAR] [-w VAR] [-I VAR] [--secondary VAR] [-N VAR] [-Y] [--bandwidth VAR] [--junc-bed VAR] [--mm2-preset VAR] model data\n",
      "\n",
      "Positional arguments:\n",
      "  model                     \tmodel selection {fast,hac,sup}@v{version} for automatic model selection including modbases, or path to existing model directory \n",
      "  data                      \tthe data directory or file (POD5/FAST5 format). \n",
      "\n",
      "Optional arguments:\n",
      "  -h, --help                \tshows help message and exits \n",
      "  -v, --verbose             \t\n",
      "  -x, --device              \tdevice string in format \"cuda:0,...,N\", \"cuda:all\", \"metal\", \"cpu\" etc.. [default: \"cuda:all\"]\n",
      "  -l, --read-ids            \tA file with a newline-delimited list of reads to basecall. If not provided, all reads will be basecalled [default: \"\"]\n",
      "  --resume-from             \tResume basecalling from the given HTS file. Fully written read records are not processed again. [default: \"\"]\n",
      "  -n, --max-reads           \t[default: 0]\n",
      "  --min-qscore              \tDiscard reads with mean Q-score below this threshold. [default: 0]\n",
      "  -b, --batchsize           \tif 0 an optimal batchsize will be selected. batchsizes are rounded to the closest multiple of 64. [default: 0]\n",
      "  -c, --chunksize           \t[default: 10000]\n",
      "  -o, --overlap             \t[default: 500]\n",
      "  -r, --recursive           \tRecursively scan through directories to load FAST5 and POD5 files \n",
      "  --modified-bases          \t[nargs: 1 or more] \n",
      "  --modified-bases-models   \ta comma separated list of modified base models [default: \"\"]\n",
      "  --modified-bases-threshold\tthe minimum predicted methylation probability for a modified base to be emitted in an all-context model, [0, 1] [default: 0.05]\n",
      "  --emit-fastq              \tOutput in fastq format. \n",
      "  --emit-sam                \tOutput in SAM format. \n",
      "  --emit-moves              \t\n",
      "  --reference               \tPath to reference for alignment. [default: \"\"]\n",
      "  --kit-name                \tEnable barcoding with the provided kit name. Choose from: EXP-NBD103 EXP-NBD104 EXP-NBD114 EXP-NBD196 EXP-PBC001 EXP-PBC096 SQK-16S024 SQK-16S114-24 SQK-LWB001 SQK-MLK111-96-XL SQK-MLK114-96-XL SQK-NBD111-24 SQK-NBD111-96 SQK-NBD114-24 SQK-NBD114-96 SQK-PBK004 SQK-PCB109 SQK-PCB110 SQK-PCB111-24 SQK-PCB114-24 SQK-RAB201 SQK-RAB204 SQK-RBK001 SQK-RBK004 SQK-RBK110-96 SQK-RBK111-24 SQK-RBK111-96 SQK-RBK114-24 SQK-RBK114-96 SQK-RLB001 SQK-RPB004 SQK-RPB114-24 TWIST-16-UDI TWIST-96A-UDI VSK-PTC001 VSK-VMK001 VSK-VMK004 VSK-VPS001. [default: \"\"]\n",
      "  --barcode-both-ends       \tRequire both ends of a read to be barcoded for a double ended barcode. \n",
      "  --no-trim                 \tSkip trimming of barcodes, adapters, and primers. If option is not chosen, trimming of all three is enabled. \n",
      "  --trim                    \tSpecify what to trim. Options are 'none', 'all', 'adapters', and 'primers'. Default behaviour is to trim all detected adapters, primers, or barcodes. Choose 'adapters' to just trim adapters. The 'primers' choice will trim adapters and primers, but not barcodes. The 'none' choice is equivelent to using --no-trim. Note that this only applies to DNA. RNA adapters are always trimmed. [default: \"\"]\n",
      "  --sample-sheet            \tPath to the sample sheet to use. [default: \"\"]\n",
      "  --barcode-arrangement     \tPath to file with custom barcode arrangement. \n",
      "  --barcode-sequences       \tPath to file with custom barcode sequences. \n",
      "  --primer-sequences        \tPath to file with custom primer sequences. [default: <not representable>]\n",
      "  --estimate-poly-a         \tEstimate poly-A/T tail lengths (beta feature). Primarily meant for cDNA and dRNA use cases. \n",
      "  --poly-a-config           \tConfiguration file for PolyA estimation to change default behaviours [default: \"\"]\n",
      "  -k                        \tminimap2 k-mer size for alignment (maximum 28). \n",
      "  -w                        \tminimap2 minimizer window size for alignment. \n",
      "  -I                        \tminimap2 index batch size. \n",
      "  --secondary               \tminimap2 outputs secondary alignments \n",
      "  -N                        \tminimap2 retains at most INT secondary alignments \n",
      "  -Y                        \tminimap2 uses soft clipping for supplementary alignments \n",
      "  --bandwidth               \tminimap2 chaining/alignment bandwidth and optionally long-join bandwidth specified as NUM,[NUM] \n",
      "  --junc-bed                \tOptional file with gene annotations in the BED12 format (aka 12-column BED), or intron positions in 5-column BED. With this option, minimap2 prefers splicing in annotations. \n",
      "  --mm2-preset              \tminimap2 preset for indexing and mapping. Alias for the -x option in minimap2. [default: \"lr:hq\"]\n"
     ]
    }
   ],
   "source": [
    "$DORADO basecaller -h"
   ]
  },
  {
   "cell_type": "code",
   "execution_count": 4,
   "metadata": {
    "vscode": {
     "languageId": "shellscript"
    }
   },
   "outputs": [
    {
     "name": "stdout",
     "output_type": "stream",
     "text": [
      "sbatch: slurm_job_submit: Job assigned to GPU nodes: gpu\n",
      "Submitted batch job 7723416\n"
     ]
    }
   ],
   "source": [
    "#DORADO duplex\n",
    "sbatch << EOF\n",
    "#!/bin/bash -e\n",
    "#SBATCH -J basecalling\n",
    "#SBATCH --nodes=1\n",
    "#SBATCH --ntasks=1\n",
    "#SBATCH --cpus-per-task=8\n",
    "#SBATCH --mem=160G\n",
    "#SBATCH --output=${WKDIR}/log/%J.out\n",
    "#SBATCH --error=${WKDIR}/log/%J.err\n",
    "#SBATCH --time=47:00:00\n",
    "#SBATCH --gres=gpu:1\n",
    "\n",
    "module load samtools/1.20\n",
    "cd ${WKDIR}\n",
    "\n",
    "#Basecalling\n",
    "${DORADO} duplex sup ${READDIR} > ${PREFIX}_duplex.bam\n",
    "\n",
    "# Get QC report of runs. \n",
    "~/.local/bin/NanoPlot -t 8 --ubam ${PREFIX}_duplex.bam -o ${WKDIR}/${PREFIX}_summary-plots\n",
    "\n",
    "#Bam -> Fastq\n",
    "samtools fastq -@ 8 -T '*' ${PREFIX}_duplex.bam > ${PREFIX}_all.fastq\n",
    "/workspace/hraijc/git_clones/seqkit/seqkit seq ${PREFIX}_all.fastq -j 8 -Q 15 -m 1000 > ${PREFIX}_q15L1k.fastq\n",
    "\n",
    "#Stats\n",
    "/workspace/hraijc/git_clones/seqkit/seqkit stats *.fastq\n",
    "\n",
    "#zip outputs\n",
    "gzip *.fastq\n",
    "\n",
    "\n",
    "EOF"
   ]
  },
  {
   "cell_type": "code",
   "execution_count": 3,
   "metadata": {
    "vscode": {
     "languageId": "shellscript"
    }
   },
   "outputs": [
    {
     "name": "stdout",
     "output_type": "stream",
     "text": [
      "12G\t/workspace/hraijc/Karaka/Crupestris/01_basecalling/Crup_ONT1_duplex.bam\n"
     ]
    }
   ],
   "source": [
    "du -sh ${WKDIR}/*.bam\n"
   ]
  },
  {
   "cell_type": "code",
   "execution_count": 4,
   "metadata": {
    "vscode": {
     "languageId": "shellscript"
    }
   },
   "outputs": [
    {
     "name": "stdout",
     "output_type": "stream",
     "text": [
      "Job ID: 7723416\n",
      "Cluster: powerplant\n",
      "User/Group: hraijc/hraijc\n",
      "State: COMPLETED (exit code 0)\n",
      "Nodes: 1\n",
      "Cores per node: 8\n",
      "CPU Utilized: 10:42:43\n",
      "CPU Efficiency: 14.27% of 3-03:04:56 core-walltime\n",
      "Job Wall-clock time: 09:23:07\n",
      "Memory Utilized: 160.00 GB\n",
      "Memory Efficiency: 100.00% of 160.00 GB\n"
     ]
    }
   ],
   "source": [
    "#DoradoDuplex ATD\n",
    "seff 7723416"
   ]
  },
  {
   "cell_type": "code",
   "execution_count": 5,
   "metadata": {},
   "outputs": [
    {
     "name": "stdout",
     "output_type": "stream",
     "text": [
      "file                    format  type   num_seqs         sum_len  min_len  avg_len    max_len\n",
      "Crup_ONT1_all.fastq     FASTQ   DNA   1,698,879  12,710,424,334        5  7,481.7  1,787,052\n",
      "Crup_ONT1_q15L1k.fastq  FASTQ   DNA   1,154,494  10,240,802,276    1,000  8,870.4    263,124\n"
     ]
    }
   ],
   "source": [
    "cat ${WKDIR}/log/7723416.out"
   ]
  },
  {
   "cell_type": "code",
   "execution_count": 6,
   "metadata": {},
   "outputs": [
    {
     "name": "stdout",
     "output_type": "stream",
     "text": [
      "Crup_ONT1_all.fastq.gz\tCrup_ONT1_duplex.bam.bai   Crup_ONT1_summary-plots\n",
      "Crup_ONT1_duplex.bam\tCrup_ONT1_q15L1k.fastq.gz  log\n"
     ]
    }
   ],
   "source": [
    "ls $WKDIR"
   ]
  },
  {
   "cell_type": "code",
   "execution_count": null,
   "metadata": {},
   "outputs": [],
   "source": []
  }
 ],
 "metadata": {
  "kernelspec": {
   "display_name": "Bash",
   "language": "bash",
   "name": "bash"
  },
  "language_info": {
   "codemirror_mode": "shell",
   "file_extension": ".sh",
   "mimetype": "text/x-sh",
   "name": "bash"
  }
 },
 "nbformat": 4,
 "nbformat_minor": 4
}
