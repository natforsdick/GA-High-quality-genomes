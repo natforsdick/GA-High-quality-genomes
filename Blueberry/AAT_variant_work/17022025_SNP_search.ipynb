{
 "cells": [
  {
   "cell_type": "markdown",
   "id": "5b4b0d28-859f-4657-a9bd-93462a89d4e6",
   "metadata": {},
   "source": [
    "\"do you have a sequence comparison of all the haplotypes for the best AAT candidate gene that we identified in the blueberry paper? Like in Genious or some other visualization tool that would show the potential nucleotide variants responsible for the trait?\"\n",
    "\n",
    "\n",
    "\"Yes, there was one contig only that appears to have the variant. I don’t actually know which SNP, but based on Andrew, it was VcAAT1a on contig h2tg000453l_1. I have the gene sequence, but also can do some comparison looking for the SNP. \"\n",
    "\n",
    "\n",
    "## Goal\n",
    "create alignment of all seqs that are similar to h2tg000453l_1 contig from M7H2 assembly. \n",
    "\n",
    "## Steps\n",
    "1) Map all contigs to h2tg000453l_1.\n",
    "2) Filter alignment to include only contigs that map well. Rename seqs in alignments to tell which haplotype the contig came from. \n",
    "3) Look for SNPs in the alignment. "
   ]
  },
  {
   "cell_type": "code",
   "execution_count": 1,
   "id": "f63256e4-d3e3-45bd-8899-34e784cd381f",
   "metadata": {},
   "outputs": [],
   "source": [
    "WKDIR=/workspace/hraijc/Blueberry/Blueberry_Antho_QLT/17022025_SNP_Search\n",
    "CONTIG_DIR=/output/genomic/plant/Vaccinium/corymbosum/2023-10-18_M7xNui_TrioBinned_HiFi_Assemblies/Classified_Reads_Only_Assemblies\n",
    "M7H1_CONTIGS=${CONTIG_DIR}/M7_Haplotypes/Purged_Assemblies/classified_M7_hap1.purged.fa\t\n",
    "M7H2_CONTIGS=${CONTIG_DIR}/M7_Haplotypes/Purged_Assemblies/classified_M7_hap2.purged.fa\t\n",
    "NuiH1_CONTIGS=${CONTIG_DIR}/Nui_Haplotypes/Purged_Assemblies/classified_Nui_hap1.purged.fa\n",
    "NuiH2_CONTIGS=${CONTIG_DIR}/Nui_Haplotypes/Purged_Assemblies/classified_Nui_hap2.purged.fa\n",
    "\n",
    "h2tg453=${WKDIR}/h2tg000453l_1.fa\n",
    "\n",
    "\n",
    "mkdir -p $WKDIR/log\n",
    "cd ${WKDIR}"
   ]
  },
  {
   "cell_type": "code",
   "execution_count": 2,
   "id": "5929dd1c-59a1-4c21-a79e-097455f43b9c",
   "metadata": {},
   "outputs": [
    {
     "name": "stdout",
     "output_type": "stream",
     "text": [
      ">h1tg000001l_1\n",
      ">h1tg000001l_1\n"
     ]
    }
   ],
   "source": [
    "#Names of contigs will be tricky. Will need to sort this out later.\n",
    "head $NuiH1_CONTIGS -n 1\n",
    "head $M7H1_CONTIGS -n 1"
   ]
  },
  {
   "cell_type": "code",
   "execution_count": 3,
   "id": "b61f49c1-ce6b-42d6-b63f-857cfedb619f",
   "metadata": {},
   "outputs": [],
   "source": [
    "sed -e 's/>/>M7_/g' $M7H1_CONTIGS >> $WKDIR/Renamed_CONTIGS.fa\n",
    "sed -e 's/>/>M7_/g' $M7H2_CONTIGS >> $WKDIR/Renamed_CONTIGS.fa\n",
    "sed -e 's/>/>Nui_/g' $NuiH1_CONTIGS >> $WKDIR/Renamed_CONTIGS.fa\n",
    "sed -e 's/>/>Nui_/g' $NuiH2_CONTIGS >> $WKDIR/Renamed_CONTIGS.fa\n"
   ]
  },
  {
   "cell_type": "code",
   "execution_count": 4,
   "id": "e4ef9e3a-feea-4d7a-ae6b-83efccda3e11",
   "metadata": {},
   "outputs": [
    {
     "name": "stdout",
     "output_type": "stream",
     "text": [
      ">Nui_h2tg000684l_1\n",
      ">Nui_h2tg000696l_1\n",
      ">Nui_h2tg000698l_1\n",
      ">Nui_h2tg000699l_1\n",
      ">Nui_h2tg000701l_1\n",
      ">Nui_h2tg000705l_1\n",
      ">Nui_h2tg000706l_1\n",
      ">Nui_h2tg000709l_1\n",
      ">Nui_h2tg000710l_1\n",
      ">Nui_h2tg000711l_1\n"
     ]
    }
   ],
   "source": [
    "grep \">\" $WKDIR/Renamed_CONTIGS.fa | tail"
   ]
  },
  {
   "cell_type": "code",
   "execution_count": 8,
   "id": "7e167c57-ab82-4723-99f7-cf7a00c23bc8",
   "metadata": {},
   "outputs": [],
   "source": [
    "#Pull out contig with causitive variant\n",
    "module load seqkit\n",
    "\n",
    "seqkit grep -p \"h2tg000453l_1\" ${M7H2_CONTIGS} -o ${h2tg453}"
   ]
  },
  {
   "cell_type": "code",
   "execution_count": 18,
   "id": "aadd186f-cb3c-4c8f-af99-e7b1e6419805",
   "metadata": {},
   "outputs": [
    {
     "name": "stdout",
     "output_type": "stream",
     "text": [
      "file                                                                                  format  type  num_seqs  sum_len  min_len  avg_len  max_len\n",
      "/workspace/hraijc/Blueberry/Blueberry_Antho_QLT/17022025_SNP_Search/h2tg000453l_1.fa  FASTA   DNA          1  161,688  161,688  161,688  161,688\n"
     ]
    }
   ],
   "source": [
    "#Its quite short\n",
    "seqkit stats  ${h2tg453}"
   ]
  },
  {
   "cell_type": "code",
   "execution_count": null,
   "id": "dc9b427f-179d-4201-b1ca-b42659beb94f",
   "metadata": {},
   "outputs": [],
   "source": []
  },
  {
   "cell_type": "code",
   "execution_count": null,
   "id": "9ec38102-6705-4a96-87a0-fc0bfd5a3fb3",
   "metadata": {},
   "outputs": [],
   "source": []
  },
  {
   "cell_type": "code",
   "execution_count": 5,
   "id": "7ada2e99-06db-4c6e-9610-146da712edf5",
   "metadata": {},
   "outputs": [
    {
     "name": "stdout",
     "output_type": "stream",
     "text": [
      "Submitted batch job 8377540\n"
     ]
    }
   ],
   "source": [
    "# Map contig to m7h1 contigs \n",
    "module load minimap2/2.22\n",
    "sbatch << EOF\n",
    "#!/bin/bash\n",
    "#SBATCH -J mapping\n",
    "#SBATCH --cpus-per-task=4\n",
    "#SBATCH --mem-per-cpu=5G\n",
    "#SBATCH --time=01:10:00\n",
    "#SBATCH -o $WKDIR/log/%J.out\n",
    "#SBATCH -e $WKDIR/log/%J.err\n",
    "\n",
    "\n",
    "#Map to Reference Assembly\n",
    "minimap2 -x asm5 ${h2tg453} $WKDIR/Renamed_CONTIGS.fa --secondary=no -t 4 -o Var2Contigs.paf\n",
    "\n",
    "EOF\n"
   ]
  },
  {
   "cell_type": "code",
   "execution_count": 6,
   "id": "bb0540ff-34a8-4ba9-bbfa-4d78254213d7",
   "metadata": {},
   "outputs": [],
   "source": [
    "#Filter hits \n",
    "cat Var2Contigs.paf | awk '$10 >= 1000' > Var2Contigs_min1k.paf\n"
   ]
  },
  {
   "cell_type": "code",
   "execution_count": 9,
   "id": "0ddeac08-ae84-4ca7-98e0-2f151413756c",
   "metadata": {},
   "outputs": [],
   "source": [
    "#Pull out hits\n",
    "module load seqkit\n",
    "cat Var2Contigs_min1k.paf | cut -f 1 | sort | uniq > Var2Contigs_min1k.txt\n",
    "seqkit grep -f Var2Contigs_min1k.txt $WKDIR/Renamed_CONTIGS.fa -o Var2Contigs_min1k.fa"
   ]
  },
  {
   "cell_type": "code",
   "execution_count": 10,
   "id": "65fa4a2e-b428-4cbb-9ac5-f07722baa770",
   "metadata": {},
   "outputs": [
    {
     "name": "stdout",
     "output_type": "stream",
     "text": [
      "Submitted batch job 8377652\n"
     ]
    }
   ],
   "source": [
    "#Map again in sam format output\n",
    "# Map contig to m7h1 contigs \n",
    "module load minimap2/2.22\n",
    "sbatch << EOF\n",
    "#!/bin/bash\n",
    "#SBATCH -J mapping\n",
    "#SBATCH --cpus-per-task=4\n",
    "#SBATCH --mem-per-cpu=5G\n",
    "#SBATCH --time=01:10:00\n",
    "#SBATCH -o $WKDIR/log/%J.out\n",
    "#SBATCH -e $WKDIR/log/%J.err\n",
    "\n",
    "\n",
    "#Map to Reference Assembly\n",
    "minimap2 -x asm5 ${h2tg453} Var2Contigs_min1k.fa --secondary=no -t 4 -a -o Var2Contigs_min1k.sam\n",
    "\n",
    "EOF\n"
   ]
  },
  {
   "cell_type": "code",
   "execution_count": 33,
   "id": "830f5c2c-7743-4958-99d7-4af22e553ccd",
   "metadata": {},
   "outputs": [],
   "source": [
    "grep \"h2tg000453l_1\" W85_20_p0.mRNAlift.gmap.M7h2.gff3 > h2tg000453l_1.gff3"
   ]
  }
 ],
 "metadata": {
  "kernelspec": {
   "display_name": "Bash",
   "language": "bash",
   "name": "bash"
  },
  "language_info": {
   "codemirror_mode": "shell",
   "file_extension": ".sh",
   "mimetype": "text/x-sh",
   "name": "bash"
  }
 },
 "nbformat": 4,
 "nbformat_minor": 5
}
